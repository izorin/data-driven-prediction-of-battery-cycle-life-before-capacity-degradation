{
 "cells": [
  {
   "cell_type": "code",
   "execution_count": null,
   "metadata": {},
   "outputs": [],
   "source": [
    "%load_ext autoreload\n",
    "%autoreload 2"
   ]
  },
  {
   "cell_type": "code",
   "execution_count": null,
   "metadata": {},
   "outputs": [],
   "source": [
    "import numpy as np\n",
    "import matplotlib.pyplot as plt\n",
    "from scipy import interpolate\n",
    "\n",
    "from build_batches import load_battery_data\n",
    "from data import *"
   ]
  },
  {
   "cell_type": "code",
   "execution_count": null,
   "metadata": {},
   "outputs": [],
   "source": [
    "dataset = BattData('/Users/ivan_zorin/Documents/AIRI/data/batt/', data_name='batt_data.pkl', is_save_data=False, hi_approximator_kwargs={'degree': 3})"
   ]
  },
  {
   "cell_type": "code",
   "execution_count": null,
   "metadata": {},
   "outputs": [],
   "source": [
    "batt_name = 'b1c11'\n",
    "q = dataset.batt_summary[batt_name]['QD']\n",
    "q = dataset.scale_fn(q)\n",
    "x = np.arange(len(q))\n",
    "\n",
    "qc_approx = dataset.batt_fade_approx[batt_name]['QD'](x)\n",
    "\n",
    "\n",
    "plt.plot(q, 'or')\n",
    "plt.plot(qc_approx, 'b-')"
   ]
  },
  {
   "cell_type": "code",
   "execution_count": null,
   "metadata": {},
   "outputs": [],
   "source": [
    "# spl = interpolate.interp1d(x, q, kind='cubic')\n",
    "# x2 = np.linspace(x[0], x[-1], 10000)\n",
    "# plt.plot(x2, spl(x2), 'b-')\n",
    "\n",
    "cycle_step = 100\n",
    "k = 3\n",
    "\n",
    "def data_init(key, value):\n",
    "    q = value['QD']\n",
    "    x = np.arange(len(q))   \n",
    "    t = x[x[1]:x[-1]:cycle_step]\n",
    "    t = np.r_[(x[0],) * (k+1), t, (x[-1],) * (k+1)]\n",
    "\n",
    "    try:\n",
    "        spl = interpolate.make_lsq_spline(x, q, t, k)\n",
    "        return spl\n",
    "    except:\n",
    "        print(key)"
   ]
  },
  {
   "cell_type": "code",
   "execution_count": null,
   "metadata": {},
   "outputs": [],
   "source": [
    "for key, value in dataset.batt_summary.items():\n",
    "    data_init(key, value)\n",
    "   \n",
    "\n",
    "    # plt.plot(x, spl(x), 'b-')"
   ]
  },
  {
   "cell_type": "code",
   "execution_count": null,
   "metadata": {},
   "outputs": [],
   "source": [
    "q = dataset.batt_summary['b1c28']['QD']\n",
    "x = np.arange(len(q))   \n",
    "t = x[x[1]:x[-1]:cycle_step]\n",
    "t = np.r_[(x[0],) * (k+1), t, (x[-1],) * (k+1)]\n",
    "print(t)\n",
    "plt.plot(q, 'ro')\n",
    "\n",
    "spl = interpolate.make_lsq_spline(x, q, t, k)\n",
    "plt.plot(x, spl(x))"
   ]
  },
  {
   "cell_type": "code",
   "execution_count": null,
   "metadata": {},
   "outputs": [],
   "source": [
    "ref_batts = [(key, value) for key, value in dataset.batt_charge_policy.items() if '3.6C' in value]\n",
    "print(ref_batts)"
   ]
  },
  {
   "cell_type": "code",
   "execution_count": null,
   "metadata": {},
   "outputs": [],
   "source": [
    "ref_batts = ['b1c0', 'b1c1', 'b1c2']\n",
    "splines = []\n",
    "for key in ref_batts:\n",
    "    value = dataset.batt_summary[key]\n",
    "    \n",
    "    spl = data_init(key, value)\n",
    "    splines.append(spl)\n",
    "    q = value['QD'][1:]\n",
    "    x = np.arange(len(q))\n",
    "\n",
    "    plt.figure()\n",
    "    plt.plot(q, 'ro')\n",
    "    plt.plot(x, spl(x))\n",
    "    plt.title(key)\n",
    "    plt.show()"
   ]
  },
  {
   "cell_type": "code",
   "execution_count": null,
   "metadata": {},
   "outputs": [],
   "source": []
  },
  {
   "cell_type": "code",
   "execution_count": null,
   "metadata": {},
   "outputs": [],
   "source": [
    "data_path = '/Users/ivan_zorin/Documents/AIRI/data/batt/'\n",
    "hi_approximator = SplineApproximator\n",
    "hi_approximator_kwargs = {'degree': 3, 'knot_step': 100}\n",
    "dataset = BattData(data_path, 'batt_data.pkl', hi_approximator=hi_approximator, hi_approximator_kwargs=hi_approximator_kwargs,  is_save_data=False)"
   ]
  },
  {
   "cell_type": "code",
   "execution_count": null,
   "metadata": {},
   "outputs": [],
   "source": [
    "cycles = [cycle for cycle in dataset.batt_life_cycles.values()]"
   ]
  },
  {
   "cell_type": "code",
   "execution_count": null,
   "metadata": {},
   "outputs": [],
   "source": []
  },
  {
   "cell_type": "code",
   "execution_count": null,
   "metadata": {},
   "outputs": [],
   "source": []
  },
  {
   "cell_type": "code",
   "execution_count": null,
   "metadata": {},
   "outputs": [],
   "source": [
    "data = load_battery_data('/Users/ivan_zorin/Documents/AIRI/data/batt/', is_save=False)\n",
    "data['b1c0'].keys()"
   ]
  },
  {
   "cell_type": "code",
   "execution_count": null,
   "metadata": {},
   "outputs": [],
   "source": [
    "names, charging, cycles, QC, QD = [], [], [], [], []\n",
    "X = []\n",
    "\n",
    "for batt_name in data.keys():\n",
    "    names += batt_name\n",
    "    charging += [data[batt_name]['charge_policy']]\n",
    "    cycles += [data[batt_name]['cycle_life']]\n",
    "    QC += [data[batt_name]['summary']['QC'][1:]]\n",
    "    QD += [data[batt_name]['summary']['QD'][1:]]\n",
    "    X.append(np.arange(1, len(QD[-1])+1))\n",
    "\n",
    "charging = [float(name.split('C')[0]) for name in charging]"
   ]
  },
  {
   "cell_type": "code",
   "execution_count": null,
   "metadata": {},
   "outputs": [],
   "source": [
    "plt.plot(QC[0])"
   ]
  },
  {
   "cell_type": "code",
   "execution_count": null,
   "metadata": {},
   "outputs": [],
   "source": [
    "rng = np.random.default_rng()\n",
    "x = np.linspace(-3, 3, 50)\n",
    "y = np.exp(-x**2) + 0.1 * rng.standard_normal(50)\n",
    "\n",
    "\n",
    "t = [-1, 0, 1]\n",
    "k = 3\n",
    "t = np.r_[(x[0],)*(k+1), t, (x[-1],)*(k+1)]"
   ]
  },
  {
   "cell_type": "code",
   "execution_count": null,
   "metadata": {},
   "outputs": [],
   "source": [
    "idxs = [int(el) for el in t]"
   ]
  },
  {
   "cell_type": "code",
   "execution_count": null,
   "metadata": {},
   "outputs": [],
   "source": []
  },
  {
   "cell_type": "code",
   "execution_count": null,
   "metadata": {},
   "outputs": [],
   "source": [
    "bat_id = 4\n",
    "# y = QC[bat_id]\n",
    "y = temp\n",
    "x = np.arange(0, len(y))\n",
    "fit_fn = np.polyfit(x, y, deg=3)\n",
    "plt.plot(x, y, 'ro')\n",
    "plt.plot(x, np.polyval(fit_fn, x), 'b-')"
   ]
  }
 ],
 "metadata": {
  "kernelspec": {
   "display_name": "Python 3.9.5 ('base')",
   "language": "python",
   "name": "python3"
  },
  "language_info": {
   "codemirror_mode": {
    "name": "ipython",
    "version": 3
   },
   "file_extension": ".py",
   "mimetype": "text/x-python",
   "name": "python",
   "nbconvert_exporter": "python",
   "pygments_lexer": "ipython3",
   "version": "3.9.5"
  },
  "orig_nbformat": 4,
  "vscode": {
   "interpreter": {
    "hash": "fcfb873cee342a126465f28e5fb90ec8215345ad5e209fbd2ecc8bbd5ba5a2be"
   }
  }
 },
 "nbformat": 4,
 "nbformat_minor": 2
}
