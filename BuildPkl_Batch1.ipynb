{
 "cells": [
  {
   "cell_type": "code",
   "execution_count": 3,
   "metadata": {
    "tags": []
   },
   "outputs": [],
   "source": [
    "import h5py\n",
    "import scipy.io\n",
    "import matplotlib.pyplot as plt\n",
    "import numpy as np\n",
    "import pickle\n",
    "import os\n",
    "import warnings\n",
    "warnings.filterwarnings(\"ignore\")"
   ]
  },
  {
   "cell_type": "code",
   "execution_count": 4,
   "metadata": {
    "collapsed": false,
    "jupyter": {
     "outputs_hidden": false
    }
   },
   "outputs": [],
   "source": [
    "# matFilename = './Data/2017-05-12_batchdata_updated_struct_errorcorrect.mat'\n",
    "matFilename = '/home/jovyan/data/batt/2018-02-20_batchdata_updated_struct_errorcorrect.mat'\n",
    "\n",
    "f = h5py.File(matFilename)"
   ]
  },
  {
   "cell_type": "code",
   "execution_count": 5,
   "metadata": {
    "collapsed": false,
    "jupyter": {
     "outputs_hidden": false
    }
   },
   "outputs": [
    {
     "data": {
      "text/plain": [
       "['#refs#', '#subsystem#', 'batch', 'batch_date']"
      ]
     },
     "execution_count": 5,
     "metadata": {},
     "output_type": "execute_result"
    }
   ],
   "source": [
    "list(f.keys())"
   ]
  },
  {
   "cell_type": "code",
   "execution_count": 6,
   "metadata": {
    "collapsed": false,
    "jupyter": {
     "outputs_hidden": false
    }
   },
   "outputs": [],
   "source": [
    "batch = f['batch']"
   ]
  },
  {
   "cell_type": "code",
   "execution_count": 7,
   "metadata": {
    "collapsed": false,
    "jupyter": {
     "outputs_hidden": false
    }
   },
   "outputs": [
    {
     "data": {
      "text/plain": [
       "['Vdlin',\n",
       " 'barcode',\n",
       " 'channel_id',\n",
       " 'cycle_life',\n",
       " 'cycles',\n",
       " 'policy',\n",
       " 'policy_readable',\n",
       " 'summary']"
      ]
     },
     "execution_count": 7,
     "metadata": {},
     "output_type": "execute_result"
    }
   ],
   "source": [
    "list(batch.keys())"
   ]
  },
  {
   "cell_type": "code",
   "execution_count": 8,
   "metadata": {
    "collapsed": false,
    "jupyter": {
     "outputs_hidden": false
    }
   },
   "outputs": [],
   "source": [
    "num_cells = batch['summary'].shape[0]\n",
    "bat_dict = {}\n",
    "for i in range(num_cells):\n",
    "    cl = f[batch['cycle_life'][i,0]].value\n",
    "    policy = f[batch['policy_readable'][i,0]].value.tobytes()[::2].decode()\n",
    "    summary_IR = np.hstack(f[batch['summary'][i,0]]['IR'][0,:].tolist())\n",
    "    summary_QC = np.hstack(f[batch['summary'][i,0]]['QCharge'][0,:].tolist())\n",
    "    summary_QD = np.hstack(f[batch['summary'][i,0]]['QDischarge'][0,:].tolist())\n",
    "    summary_TA = np.hstack(f[batch['summary'][i,0]]['Tavg'][0,:].tolist())\n",
    "    summary_TM = np.hstack(f[batch['summary'][i,0]]['Tmin'][0,:].tolist())\n",
    "    summary_TX = np.hstack(f[batch['summary'][i,0]]['Tmax'][0,:].tolist())\n",
    "    summary_CT = np.hstack(f[batch['summary'][i,0]]['chargetime'][0,:].tolist())\n",
    "    summary_CY = np.hstack(f[batch['summary'][i,0]]['cycle'][0,:].tolist())\n",
    "    summary = {'IR': summary_IR, 'QC': summary_QC, 'QD': summary_QD, 'Tavg':\n",
    "                summary_TA, 'Tmin': summary_TM, 'Tmax': summary_TX, 'chargetime': summary_CT,\n",
    "                'cycle': summary_CY}\n",
    "    cycles = f[batch['cycles'][i,0]]\n",
    "    cycle_dict = {}\n",
    "    for j in range(cycles['I'].shape[0]):\n",
    "        I = np.hstack((f[cycles['I'][j,0]].value))\n",
    "        Qc = np.hstack((f[cycles['Qc'][j,0]].value))\n",
    "        Qd = np.hstack((f[cycles['Qd'][j,0]].value))\n",
    "        Qdlin = np.hstack((f[cycles['Qdlin'][j,0]].value))\n",
    "        T = np.hstack((f[cycles['T'][j,0]].value))\n",
    "        Tdlin = np.hstack((f[cycles['Tdlin'][j,0]].value))\n",
    "        V = np.hstack((f[cycles['V'][j,0]].value))\n",
    "        dQdV = np.hstack((f[cycles['discharge_dQdV'][j,0]].value))\n",
    "        t = np.hstack((f[cycles['t'][j,0]].value))\n",
    "        cd = {'I': I, 'Qc': Qc, 'Qd': Qd, 'Qdlin': Qdlin, 'T': T, 'Tdlin': Tdlin, 'V':V, 'dQdV': dQdV, 't':t}\n",
    "        cycle_dict[str(j)] = cd\n",
    "        \n",
    "    cell_dict = {'cycle_life': cl, 'charge_policy':policy, 'summary': summary, 'cycles': cycle_dict}\n",
    "    key = 'b1c' + str(i)\n",
    "    bat_dict[key]=   cell_dict"
   ]
  },
  {
   "cell_type": "code",
   "execution_count": 9,
   "metadata": {
    "collapsed": false,
    "jupyter": {
     "outputs_hidden": false
    }
   },
   "outputs": [
    {
     "data": {
      "text/plain": [
       "dict_keys(['b1c0', 'b1c1', 'b1c2', 'b1c3', 'b1c4', 'b1c5', 'b1c6', 'b1c7', 'b1c8', 'b1c9', 'b1c10', 'b1c11', 'b1c12', 'b1c13', 'b1c14', 'b1c15', 'b1c16', 'b1c17', 'b1c18', 'b1c19', 'b1c20', 'b1c21', 'b1c22', 'b1c23', 'b1c24', 'b1c25', 'b1c26', 'b1c27', 'b1c28', 'b1c29', 'b1c30', 'b1c31', 'b1c32', 'b1c33', 'b1c34', 'b1c35', 'b1c36', 'b1c37', 'b1c38', 'b1c39', 'b1c40', 'b1c41', 'b1c42', 'b1c43', 'b1c44', 'b1c45', 'b1c46'])"
      ]
     },
     "execution_count": 9,
     "metadata": {},
     "output_type": "execute_result"
    }
   ],
   "source": [
    "bat_dict.keys()"
   ]
  },
  {
   "cell_type": "code",
   "execution_count": 10,
   "metadata": {
    "collapsed": false,
    "jupyter": {
     "outputs_hidden": false
    }
   },
   "outputs": [
    {
     "data": {
      "text/plain": [
       "[<matplotlib.lines.Line2D at 0x7f6bc5320610>]"
      ]
     },
     "execution_count": 10,
     "metadata": {},
     "output_type": "execute_result"
    },
    {
     "data": {
      "image/png": "[encoded data removed]",
      "text/plain": [
       "<Figure size 432x288 with 1 Axes>"
      ]
     },
     "metadata": {
      "needs_background": "light"
     },
     "output_type": "display_data"
    }
   ],
   "source": [
    "plt.plot(bat_dict['b1c43']['summary']['cycle'], bat_dict['b1c43']['summary']['QD'])"
   ]
  },
  {
   "cell_type": "code",
   "execution_count": 11,
   "metadata": {
    "collapsed": false,
    "jupyter": {
     "outputs_hidden": false
    }
   },
   "outputs": [
    {
     "data": {
      "text/plain": [
       "[<matplotlib.lines.Line2D at 0x7f6bc5221b10>]"
      ]
     },
     "execution_count": 11,
     "metadata": {},
     "output_type": "execute_result"
    },
    {
     "data": {
      "image/png": "[encoded data removed]",
      "text/plain": [
       "<Figure size 432x288 with 1 Axes>"
      ]
     },
     "metadata": {
      "needs_background": "light"
     },
     "output_type": "display_data"
    }
   ],
   "source": [
    "plt.plot(bat_dict['b1c43']['cycles']['10']['Qd'], bat_dict['b1c43']['cycles']['10']['V'])"
   ]
  },
  {
   "cell_type": "code",
   "execution_count": null,
   "metadata": {
    "tags": []
   },
   "outputs": [],
   "source": [
    "save_path = '/home/jovyan/data/batt'\n",
    "with open(os.path.join(save_path, 'batch1.pkl'),'wb') as fp:\n",
    "        pickle.dump(bat_dict,fp)"
   ]
  }
 ],
 "metadata": {
  "kernelspec": {
   "display_name": "Python 3 (ipykernel)",
   "language": "python",
   "name": "python3"
  },
  "language_info": {
   "codemirror_mode": {
    "name": "ipython",
    "version": 3
   },
   "file_extension": ".py",
   "mimetype": "text/x-python",
   "name": "python",
   "nbconvert_exporter": "python",
   "pygments_lexer": "ipython3",
   "version": "3.7.12"
  }
 },
 "nbformat": 4,
 "nbformat_minor": 4
}
