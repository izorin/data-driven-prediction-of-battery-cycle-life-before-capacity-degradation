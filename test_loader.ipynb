{
 "cells": [
  {
   "cell_type": "code",
   "execution_count": 1,
   "metadata": {},
   "outputs": [],
   "source": [
    "%load_ext autoreload\n",
    "%autoreload 2"
   ]
  },
  {
   "cell_type": "code",
   "execution_count": 2,
   "metadata": {},
   "outputs": [],
   "source": [
    "import torch\n",
    "import os \n",
    "import sys \n",
    "from collections import defaultdict\n",
    "import numpy as np\n",
    "import matplotlib.pyplot as plt\n",
    "import pickle\n",
    "from tqdm.auto import tqdm\n",
    "from data import *\n",
    "from build_batches import load_battery_data"
   ]
  },
  {
   "cell_type": "code",
   "execution_count": 3,
   "metadata": {},
   "outputs": [],
   "source": [
    "# load batch with custom function\n",
    "bat_dict = load_battery_data('/Users/ivan_zorin/Documents/AIRI/data/batt/', is_save=False)\n",
    "\n",
    "print(bat_dict['b1c0']['cycle_life'])\n",
    "\n",
    "b1c0_cycles = [int(cycle) for cycle in bat_dict['b1c0']['cycles'].keys()]\n",
    "print(max(b1c0_cycles))\n"
   ]
  },
  {
   "cell_type": "code",
   "execution_count": null,
   "metadata": {},
   "outputs": [],
   "source": [
    "# load pickle file of gathered bathches directly with pickle\n",
    "\n",
    "data_path = '/Users/ivan_zorin/Documents/AIRI/data/batt'\n",
    "pkl_file = 'batt_data.pkl'\n",
    "\n",
    "with open(os.path.join(data_path, pkl_file), 'rb') as f:\n",
    "    bat_data = pickle.load(f)\n",
    "\n",
    "print(bat_data['b1c0']['cycles'].keys())\n",
    "\n",
    "temp = [int(cycle) for cycle in bat_data['b1c0']['cycles'].keys()]\n",
    "print(max(temp))"
   ]
  },
  {
   "cell_type": "code",
   "execution_count": null,
   "metadata": {},
   "outputs": [],
   "source": [
    "data_path = '/Users/ivan_zorin/Documents/AIRI/data/batt/' + 'batt_data.pkl'"
   ]
  },
  {
   "cell_type": "code",
   "execution_count": null,
   "metadata": {},
   "outputs": [],
   "source": [
    "dataset = BattData('/Users/ivan_zorin/Documents/AIRI/data/batt/', data_name='batt_data.pkl', is_save_data=False)\n",
    "print(dataset[0])"
   ]
  },
  {
   "cell_type": "code",
   "execution_count": null,
   "metadata": {},
   "outputs": [],
   "source": [
    "batt_fade = dataset.capacity_fade_approximation()"
   ]
  },
  {
   "cell_type": "code",
   "execution_count": null,
   "metadata": {},
   "outputs": [],
   "source": [
    "hi_approximator = PolyApproximator\n",
    "batt_fade_approx = {}\n"
   ]
  },
  {
   "cell_type": "code",
   "execution_count": null,
   "metadata": {},
   "outputs": [],
   "source": [
    "for batt_name, value in dataset.batt_summary.items():\n",
    "    QC = value['QC']\n",
    "    QD = value['QD']\n",
    "\n",
    "    qc_approx = hi_approximator(degree=2).fit(np.arange(len(QC)), QC)\n",
    "    qd_approx = hi_approximator(degree=2).fit(np.arange(len(QD)), QD)\n",
    "\n",
    "    batt_fade_approx[batt_name] = {\n",
    "                                    'QC': qc_approx,\n",
    "                                    'QD': qd_approx\n",
    "                                    }"
   ]
  },
  {
   "cell_type": "code",
   "execution_count": null,
   "metadata": {},
   "outputs": [],
   "source": [
    "batt_fade_approx['b1c0']['QC']"
   ]
  },
  {
   "cell_type": "code",
   "execution_count": null,
   "metadata": {},
   "outputs": [],
   "source": [
    "dataloader = BattDataloader(dataset, load_features=['I', 'T'], batch_size=1, shuffle=False)\n",
    "batch = next(iter(dataloader))\n",
    "print(batch)"
   ]
  },
  {
   "cell_type": "code",
   "execution_count": null,
   "metadata": {},
   "outputs": [],
   "source": [
    "t = tqdm(dataloader)\n",
    "\n",
    "for i, batch in enumerate(t):\n",
    "    pass"
   ]
  },
  {
   "cell_type": "code",
   "execution_count": null,
   "metadata": {},
   "outputs": [],
   "source": [
    "for len_ in range(200):\n",
    "    # print(len_)\n",
    "    dataset_min_len = len_\n",
    "    min_idx = []\n",
    "\n",
    "    for i, sample in enumerate(dataset):\n",
    "        if dataset_min_len == sample[2]:\n",
    "            # dataset_min_len = sample[2]\n",
    "            min_idx += [i]\n",
    "\n",
    "    if len(min_idx) > 0:\n",
    "        print(len_)\n",
    "        print(min_idx)  \n",
    "        print(len(min_idx))\n",
    "\n",
    "        check_batts = [dataset[idx][0] for idx in min_idx]\n",
    "        batch_name = [name[:2] for name in check_batts]\n",
    "\n",
    "        print(len(batch_name), set(batch_name))\n",
    "        print('=======')"
   ]
  },
  {
   "cell_type": "code",
   "execution_count": null,
   "metadata": {},
   "outputs": [],
   "source": [
    "data_path = '/Users/ivan_zorin/Documents/AIRI/data/batt'\n",
    "\n",
    "\n",
    "with open(os.path.join(data_path, 'batch1.pkl'), 'rb') as f:\n",
    "    bat_data = pickle.load(f)"
   ]
  },
  {
   "cell_type": "code",
   "execution_count": null,
   "metadata": {},
   "outputs": [],
   "source": [
    "len(bat_data.keys())"
   ]
  },
  {
   "cell_type": "code",
   "execution_count": null,
   "metadata": {},
   "outputs": [],
   "source": []
  },
  {
   "cell_type": "code",
   "execution_count": 3,
   "metadata": {},
   "outputs": [
    {
     "name": "stdout",
     "output_type": "stream",
     "text": [
      "data loaded from pickle file\n",
      "start building dataset\n"
     ]
    }
   ],
   "source": [
    "data_path = '/Users/ivan_zorin/Documents/AIRI/data/batt/' # change the path \n",
    "\n",
    "# LSQ B-Spline approximation \n",
    "hi_approximator = SplineApproximator\n",
    "hi_approximator_kwargs = {'degree': 3, 'knot_step': 100}\n",
    "# dataset init\n",
    "dataset = BattData(data_path, 'batt_data.pkl', hi_approximator=hi_approximator, hi_approximator_kwargs=hi_approximator_kwargs,  is_save_data=False)"
   ]
  },
  {
   "cell_type": "code",
   "execution_count": 6,
   "metadata": {},
   "outputs": [],
   "source": [
    "batteries = dataset.batt_names\n",
    "\n",
    "train_batts = [batt for batt in batteries if 'b1c' in batt]\n",
    "test_batts = [batt for batt in batteries if 'b2c' in batt]\n",
    "\n",
    "train_idxs = dataset.get_indices_by_batt(train_batts)\n",
    "test_idxs = dataset.get_indices_by_batt(test_batts)\n",
    "\n",
    "train_dataset = torch.utils.data.Subset(dataset, train_idxs)\n",
    "test_dataset = torch.utils.data.Subset(dataset, test_idxs)\n"
   ]
  },
  {
   "cell_type": "code",
   "execution_count": 14,
   "metadata": {},
   "outputs": [],
   "source": [
    "train_dataloader = torch.utils.data.DataLoader(train_dataset)"
   ]
  },
  {
   "cell_type": "code",
   "execution_count": 27,
   "metadata": {},
   "outputs": [
    {
     "name": "stdout",
     "output_type": "stream",
     "text": [
      "data loaded from pickle file\n",
      "start building dataset\n"
     ]
    }
   ],
   "source": [
    "# __main__\n",
    "data_path = '/Users/ivan_zorin/Documents/AIRI/data/batt/' # change the path \n",
    "\n",
    "\n",
    "hi_approximator = SplineApproximator\n",
    "hi_approximator_kwargs = {'degree': 3, 'knot_step': 100}\n",
    "# dataset init\n",
    "dataset = BattData(data_path, 'batt_data.pkl', hi_approximator=hi_approximator, hi_approximator_kwargs=hi_approximator_kwargs,  is_save_data=False)\n",
    "\n",
    "# example of train-test split \n",
    "batteries = dataset.batt_names\n",
    "train_batts = [batt for batt in batteries if 'b1c' in batt]\n",
    "test_batts = [batt for batt in batteries if 'b2c' in batt]\n",
    "\n",
    "train_idxs = dataset.get_indices_by_batt(train_batts)\n",
    "test_idxs = dataset.get_indices_by_batt(test_batts)\n",
    "\n",
    "train_dataset = torch.utils.data.Subset(dataset, train_idxs)\n",
    "test_dataset = torch.utils.data.Subset(dataset, test_idxs)\n",
    "# ==========\n",
    "\n",
    "\n",
    "# dataloader init\n",
    "shuffle = True\n",
    "dataloader = BattDataloader(dataset, load_features=['I', 'V', 'T'], batch_size=2, shuffle=shuffle)\n"
   ]
  },
  {
   "cell_type": "code",
   "execution_count": null,
   "metadata": {},
   "outputs": [],
   "source": [
    "\n",
    "batch = next(iter(dataloader))\n",
    "batt_names, cycles, ruls, his_approx, reference_his, features = batch\n",
    "print(f'''\n",
    "Batch structure\n",
    "    batteries: {batt_names},\n",
    "    cycles: {cycles},\n",
    "    RULs: {ruls},\n",
    "    approximation of HIs: {his_approx},\n",
    "    HI of reference battery: {reference_his}, \n",
    "    features shape: {features.shape}\n",
    "''')\n",
    "\n",
    "t = tqdm(dataloader)\n",
    "for i, batch in enumerate(t):\n",
    "    pass\n"
   ]
  },
  {
   "cell_type": "code",
   "execution_count": 38,
   "metadata": {},
   "outputs": [],
   "source": [
    "train_dataloader = BattDataloader(train_dataset, load_features=['I', 'V', 'T'], batch_size=2, shuffle=shuffle)\n",
    "test_dataloader = BattDataloader(test_dataset, load_features=['I', 'V', 'T'], batch_size=2, shuffle=shuffle)\n"
   ]
  },
  {
   "cell_type": "code",
   "execution_count": 35,
   "metadata": {},
   "outputs": [],
   "source": [
    "batch = next(iter(train_dataloader))"
   ]
  },
  {
   "cell_type": "code",
   "execution_count": 39,
   "metadata": {},
   "outputs": [
    {
     "name": "stdout",
     "output_type": "stream",
     "text": [
      "{'b2'}\n"
     ]
    }
   ],
   "source": [
    "batteries = []\n",
    "for batch in test_dataloader:\n",
    "    batteries += batch[0]\n",
    "\n",
    "\n",
    "print(set([batt[:2] for batt in batteries]))"
   ]
  },
  {
   "cell_type": "code",
   "execution_count": 46,
   "metadata": {},
   "outputs": [
    {
     "data": {
      "text/plain": [
       "(18847, 18847)"
      ]
     },
     "execution_count": 46,
     "metadata": {},
     "output_type": "execute_result"
    }
   ],
   "source": [
    "len(train_dataloader), len(train_dataloader.dataloader)"
   ]
  },
  {
   "cell_type": "code",
   "execution_count": 48,
   "metadata": {},
   "outputs": [
    {
     "name": "stdout",
     "output_type": "stream",
     "text": [
      "40607\n"
     ]
    }
   ],
   "source": [
    "tsk_msk = 22292\n",
    "housing = 6492\n",
    "msk_tsk = 11823\n",
    "\n",
    "total = tsk_msk + housing + msk_tsk\n",
    "print(total)"
   ]
  },
  {
   "cell_type": "code",
   "execution_count": 49,
   "metadata": {},
   "outputs": [
    {
     "data": {
      "text/plain": [
       "900"
      ]
     },
     "execution_count": 49,
     "metadata": {},
     "output_type": "execute_result"
    }
   ],
   "source": []
  }
 ],
 "metadata": {
  "kernelspec": {
   "display_name": "Python 3.9.5 ('base')",
   "language": "python",
   "name": "python3"
  },
  "language_info": {
   "codemirror_mode": {
    "name": "ipython",
    "version": 3
   },
   "file_extension": ".py",
   "mimetype": "text/x-python",
   "name": "python",
   "nbconvert_exporter": "python",
   "pygments_lexer": "ipython3",
   "version": "3.9.5"
  },
  "orig_nbformat": 4,
  "vscode": {
   "interpreter": {
    "hash": "fcfb873cee342a126465f28e5fb90ec8215345ad5e209fbd2ecc8bbd5ba5a2be"
   }
  }
 },
 "nbformat": 4,
 "nbformat_minor": 2
}
